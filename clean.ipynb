{
 "cells": [
  {
   "cell_type": "code",
   "execution_count": 1,
   "metadata": {},
   "outputs": [],
   "source": [
    "import pandas as pd\n",
    "from sklearn.model_selection import train_test_split\n",
    "from sklearn.preprocessing import LabelEncoder\n",
    "from sklearn.impute import KNNImputer\n",
    "from sklearn.feature_selection import SelectKBest, chi2"
   ]
  },
  {
   "cell_type": "code",
   "execution_count": null,
   "metadata": {},
   "outputs": [
    {
     "name": "stderr",
     "output_type": "stream",
     "text": [
      "C:\\Users\\User\\AppData\\Local\\Temp\\ipykernel_12352\\2436019669.py:1: DtypeWarning: Columns (26) have mixed types. Specify dtype option on import or set low_memory=False.\n",
      "  df = pd.read_csv('train.csv')\n"
     ]
    }
   ],
   "source": [
    "df = pd.read_csv('train_raw.csv')"
   ]
  },
  {
   "cell_type": "code",
   "execution_count": 3,
   "metadata": {},
   "outputs": [
    {
     "name": "stdout",
     "output_type": "stream",
     "text": [
      "<class 'pandas.core.frame.DataFrame'>\n",
      "RangeIndex: 100000 entries, 0 to 99999\n",
      "Data columns (total 28 columns):\n",
      " #   Column                    Non-Null Count   Dtype  \n",
      "---  ------                    --------------   -----  \n",
      " 0   ID                        100000 non-null  object \n",
      " 1   Customer_ID               100000 non-null  object \n",
      " 2   Month                     100000 non-null  object \n",
      " 3   Name                      90015 non-null   object \n",
      " 4   Age                       100000 non-null  object \n",
      " 5   SSN                       100000 non-null  object \n",
      " 6   Occupation                100000 non-null  object \n",
      " 7   Annual_Income             100000 non-null  object \n",
      " 8   Monthly_Inhand_Salary     84998 non-null   float64\n",
      " 9   Num_Bank_Accounts         100000 non-null  int64  \n",
      " 10  Num_Credit_Card           100000 non-null  int64  \n",
      " 11  Interest_Rate             100000 non-null  int64  \n",
      " 12  Num_of_Loan               100000 non-null  object \n",
      " 13  Type_of_Loan              88592 non-null   object \n",
      " 14  Delay_from_due_date       100000 non-null  int64  \n",
      " 15  Num_of_Delayed_Payment    92998 non-null   object \n",
      " 16  Changed_Credit_Limit      100000 non-null  object \n",
      " 17  Num_Credit_Inquiries      98035 non-null   float64\n",
      " 18  Credit_Mix                100000 non-null  object \n",
      " 19  Outstanding_Debt          100000 non-null  object \n",
      " 20  Credit_Utilization_Ratio  100000 non-null  float64\n",
      " 21  Credit_History_Age        90970 non-null   object \n",
      " 22  Payment_of_Min_Amount     100000 non-null  object \n",
      " 23  Total_EMI_per_month       100000 non-null  float64\n",
      " 24  Amount_invested_monthly   95521 non-null   object \n",
      " 25  Payment_Behaviour         100000 non-null  object \n",
      " 26  Monthly_Balance           98800 non-null   object \n",
      " 27  Credit_Score              100000 non-null  object \n",
      "dtypes: float64(4), int64(4), object(20)\n",
      "memory usage: 21.4+ MB\n"
     ]
    }
   ],
   "source": [
    "df.info()"
   ]
  },
  {
   "cell_type": "code",
   "execution_count": 4,
   "metadata": {},
   "outputs": [
    {
     "name": "stdout",
     "output_type": "stream",
     "text": [
      "Columns with missing values:\n",
      "Name                        9985\n",
      "Monthly_Inhand_Salary      15002\n",
      "Type_of_Loan               11408\n",
      "Num_of_Delayed_Payment      7002\n",
      "Num_Credit_Inquiries        1965\n",
      "Credit_History_Age          9030\n",
      "Amount_invested_monthly     4479\n",
      "Monthly_Balance             1200\n",
      "dtype: int64\n"
     ]
    }
   ],
   "source": [
    "missing_values = df.isnull().sum()\n",
    "missing_values = missing_values[missing_values > 0]\n",
    "\n",
    "print(\"Columns with missing values:\")\n",
    "print(missing_values)"
   ]
  },
  {
   "cell_type": "code",
   "execution_count": 6,
   "metadata": {},
   "outputs": [],
   "source": [
    "def clean_numeric_columns(df, num_cols):\n",
    "    for col in num_cols:\n",
    "        df[col] = df[col].astype(str).str.replace(r\"[^\\d.]\", \"\", regex=True)  \n",
    "        df[col] = pd.to_numeric(df[col], errors='coerce') \n",
    "    return df\n",
    "\n",
    "\n",
    "num_cols = [\n",
    "    \"Age\", \"Annual_Income\", \"Monthly_Inhand_Salary\", \"Num_Bank_Accounts\", \"Num_Credit_Card\",\n",
    "    \"Interest_Rate\", \"Num_of_Loan\", \"Delay_from_due_date\", \"Num_of_Delayed_Payment\",\n",
    "    \"Changed_Credit_Limit\", \"Num_Credit_Inquiries\", \"Outstanding_Debt\",\n",
    "    \"Credit_Utilization_Ratio\", \"Total_EMI_per_month\", \"Amount_invested_monthly\",\n",
    "    \"Monthly_Balance\", \"Credit_History_Age\"\n",
    "]\n",
    "\n",
    "# Clean numerical columns\n",
    "df = clean_numeric_columns(df, num_cols)\n",
    "\n",
    "# Impute\n",
    "knn_imputer = KNNImputer(n_neighbors=5)\n",
    "\n",
    "df[num_cols] = knn_imputer.fit_transform(df[num_cols])\n",
    "\n"
   ]
  },
  {
   "cell_type": "code",
   "execution_count": 7,
   "metadata": {},
   "outputs": [
    {
     "name": "stdout",
     "output_type": "stream",
     "text": [
      "Month                       0\n",
      "Age                         0\n",
      "Occupation                  0\n",
      "Annual_Income               0\n",
      "Monthly_Inhand_Salary       0\n",
      "Num_Bank_Accounts           0\n",
      "Num_Credit_Card             0\n",
      "Interest_Rate               0\n",
      "Num_of_Loan                 0\n",
      "Delay_from_due_date         0\n",
      "Num_of_Delayed_Payment      0\n",
      "Changed_Credit_Limit        0\n",
      "Num_Credit_Inquiries        0\n",
      "Credit_Mix                  0\n",
      "Outstanding_Debt            0\n",
      "Credit_Utilization_Ratio    0\n",
      "Credit_History_Age          0\n",
      "Payment_of_Min_Amount       0\n",
      "Total_EMI_per_month         0\n",
      "Amount_invested_monthly     0\n",
      "Payment_Behaviour           0\n",
      "Monthly_Balance             0\n",
      "Credit_Score                0\n",
      "dtype: int64\n"
     ]
    }
   ],
   "source": [
    "print(df.isnull().sum())\n"
   ]
  },
  {
   "cell_type": "code",
   "execution_count": 8,
   "metadata": {},
   "outputs": [
    {
     "name": "stdout",
     "output_type": "stream",
     "text": [
      "0\n"
     ]
    }
   ],
   "source": [
    "print(df.duplicated().sum())"
   ]
  },
  {
   "cell_type": "code",
   "execution_count": null,
   "metadata": {},
   "outputs": [
    {
     "name": "stdout",
     "output_type": "stream",
     "text": [
      "Selected features: ['Annual_Income', 'Monthly_Inhand_Salary', 'Interest_Rate', 'Delay_from_due_date', 'Changed_Credit_Limit', 'Outstanding_Debt', 'Credit_History_Age', 'Total_EMI_per_month', 'Amount_invested_monthly', 'Monthly_Balance']\n",
      "\n",
      "Feature Scores:\n",
      "                     Feature         Score\n",
      "21           Monthly_Balance  1.687044e+27\n",
      "3              Annual_Income  1.071016e+08\n",
      "14          Outstanding_Debt  1.000486e+07\n",
      "4      Monthly_Inhand_Salary  7.411940e+06\n",
      "16        Credit_History_Age  1.026920e+06\n",
      "18       Total_EMI_per_month  1.933281e+05\n",
      "9        Delay_from_due_date  1.360119e+05\n",
      "19   Amount_invested_monthly  1.005454e+05\n",
      "7              Interest_Rate  1.773547e+04\n",
      "11      Changed_Credit_Limit  1.521642e+04\n",
      "10    Num_of_Delayed_Payment  1.424371e+04\n",
      "12      Num_Credit_Inquiries  1.229941e+04\n",
      "1                        Age  1.154198e+04\n",
      "5          Num_Bank_Accounts  3.231692e+03\n",
      "8                Num_of_Loan  2.503742e+03\n",
      "17     Payment_of_Min_Amount  2.145090e+03\n",
      "13                Credit_Mix  2.047000e+03\n",
      "6            Num_Credit_Card  1.733885e+03\n",
      "20         Payment_Behaviour  7.937028e+02\n",
      "15  Credit_Utilization_Ratio  1.204812e+02\n",
      "2                 Occupation  1.016978e+01\n",
      "0                      Month  4.090891e+00\n"
     ]
    }
   ],
   "source": [
    "df_encoded = df.copy()\n",
    "for col in df_encoded.select_dtypes(include=['object']).columns:\n",
    "    le = LabelEncoder()\n",
    "    df_encoded[col] = le.fit_transform(df_encoded[col].astype(str))\n",
    "\n",
    "\n",
    "X = df_encoded.drop(columns=['Credit_Score'])\n",
    "y = df_encoded['Credit_Score']\n",
    "\n",
    "X_train, X_test, y_train, y_test = train_test_split(X, y, test_size=0.3, random_state=42)\n",
    "\n",
    "k = min(10, X_train.shape[1])\n",
    "\n",
    "# Apply SelectKBest\n",
    "select_k_best = SelectKBest(score_func=chi2, k=k)\n",
    "X_train_k_best = select_k_best.fit_transform(X_train, y_train)\n",
    "\n",
    "# Get selected feature names\n",
    "selected_features = X_train.columns[select_k_best.get_support()]\n",
    "\n",
    "# Print selected features\n",
    "print(\"Selected features:\", selected_features.tolist())\n",
    "\n",
    "# Create DataFrame for feature scores\n",
    "feature_scores = pd.DataFrame({'Feature': X_train.columns, 'Score': select_k_best.scores_})\n",
    "feature_scores = feature_scores.sort_values(by=\"Score\", ascending=False)\n",
    "\n",
    "# Print feature scores\n",
    "print(\"\\nFeature Scores:\")\n",
    "print(feature_scores)\n",
    "\n"
   ]
  },
  {
   "cell_type": "code",
   "execution_count": null,
   "metadata": {},
   "outputs": [],
   "source": [
    "selected_data = X_train[selected_features]\n",
    "selected_data.to_csv(\"cleaned_train.csv\", index=False)"
   ]
  }
 ],
 "metadata": {
  "kernelspec": {
   "display_name": "Python 3",
   "language": "python",
   "name": "python3"
  },
  "language_info": {
   "codemirror_mode": {
    "name": "ipython",
    "version": 3
   },
   "file_extension": ".py",
   "mimetype": "text/x-python",
   "name": "python",
   "nbconvert_exporter": "python",
   "pygments_lexer": "ipython3",
   "version": "3.13.1"
  }
 },
 "nbformat": 4,
 "nbformat_minor": 2
}
